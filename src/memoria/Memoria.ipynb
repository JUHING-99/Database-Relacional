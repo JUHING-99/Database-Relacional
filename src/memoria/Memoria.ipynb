{
 "cells": [
  {
   "cell_type": "markdown",
   "metadata": {},
   "source": [
    ">## Creación de una BBDD relacional"
   ]
  },
  {
   "cell_type": "markdown",
   "metadata": {},
   "source": [
    "### Índice\n",
    "\n",
    "1. Introducción\n",
    "2. Modelo Entidad-Relación\n",
    "    - 2.1 Normalización\n",
    "3. Modelo Lógico\n",
    "4. Creación de la base de datos\n",
    "5. Introducción de valores en la bbdd\n",
    "6. Testing\n",
    "7. Next Steps\n",
    "    "
   ]
  },
  {
   "cell_type": "markdown",
   "metadata": {},
   "source": [
    "## 1. Introducción"
   ]
  },
  {
   "cell_type": "markdown",
   "metadata": {},
   "source": [
    "Se encarga la realización de un proyecto donde crearemos una base de datos relacional a partir de unos datasets proporcionados. Estos datos vienen en formato .csv y contienen información sobre una escuela que imparte bootcamps, sus alumnos y profesores.\n",
    "\n",
    "Para la realización del proyecto hemos usado como visualizador PgAdmin 4 sobre un servidor PostgreSQL montado en la plataforma grauita Elephant SQL. El lenguaje utilizado para la gestión de la bbdd ha sido SQL. Las librerias usadas para parte de la limpieza de los datos han sido con VSC, Numpy, Pandas y Excel.\n",
    "\n",
    "El equipo de trabajo \"No Mongo\" está formado por:\n",
    "\n",
    "- Cristina Mateo\n",
    "- Daniel Gouveia\n",
    "- Alex Campos\n",
    "- Adrian Ortiz\n",
    "- Daniel Manso\n",
    "\n",
    "\n"
   ]
  },
  {
   "cell_type": "markdown",
   "metadata": {},
   "source": [
    "## 2. Modelo Entidad-Relación"
   ]
  },
  {
   "cell_type": "markdown",
   "metadata": {},
   "source": [
    "Tras un estudio de los datos proporcionados comenzamos con la elaboracion del diagrama y concluimos que trabajaremos con cinco entidades con sus respectivos atributos y las relaciones entre si.\n",
    "###### Adjuntamos imagen"
   ]
  },
  {
   "cell_type": "markdown",
   "metadata": {},
   "source": [
    "[imagen/modeloER]"
   ]
  },
  {
   "cell_type": "markdown",
   "metadata": {},
   "source": [
    "### 2.1 Normalización"
   ]
  },
  {
   "cell_type": "markdown",
   "metadata": {},
   "source": [
    "Para el proceso de normalización comenzamos estudiando la redundancia que pueda haber entre los diferentes datasets, nos hemos asegurado de que los atributos de cada entidad son consecuentes entre si y que los atributos son entendibles por separado e igualmente escalables."
   ]
  },
  {
   "cell_type": "markdown",
   "metadata": {},
   "source": [
    "## 3. Modelo lógico"
   ]
  },
  {
   "cell_type": "markdown",
   "metadata": {},
   "source": [
    "A partir del modelo ER establecemos las PK y FK de cada entidad y las relacionamos entre si, estableciendo los tipos de relación según los mandatos \"One to many\", \"Many to Many optional\", etc.\n",
    "\n",
    "Este modelo lógico sienta la \"base\" para crear la bbdd.\n",
    "\n",
    "###### Adjuntamos imagen\n"
   ]
  },
  {
   "cell_type": "markdown",
   "metadata": {},
   "source": [
    "[imagen/modelo_logico]"
   ]
  },
  {
   "cell_type": "markdown",
   "metadata": {},
   "source": [
    "## 4. Creación de la base de datos"
   ]
  },
  {
   "cell_type": "markdown",
   "metadata": {},
   "source": [
    "Como anteriormente hemos citado, usando el gestor y visualizador PgAdmin 4 creamos la base de datos a partir del modelo lógico y utilizando los comandos aprendidos en la clase conjunta de FullStack y Data Science (Create Table, Alter Table...)"
   ]
  },
  {
   "cell_type": "markdown",
   "metadata": {},
   "source": [
    "[imagen/captura_querys_ejemplo]"
   ]
  },
  {
   "cell_type": "markdown",
   "metadata": {},
   "source": [
    "[imagen/captura_alter_table]"
   ]
  },
  {
   "cell_type": "markdown",
   "metadata": {},
   "source": [
    "## 5. Introducción de valores en la bbdd"
   ]
  },
  {
   "cell_type": "markdown",
   "metadata": {},
   "source": [
    "Una vez creado el esqueleto de la bbdd usando el comando \"Insert Into\" añadimos todos los valores que previamente hemos limpiado y organizado en el punto 2.1"
   ]
  },
  {
   "cell_type": "markdown",
   "metadata": {},
   "source": [
    "[imagen/captura_insert_into]"
   ]
  },
  {
   "cell_type": "markdown",
   "metadata": {},
   "source": [
    "[imagen/captura_insert_into2]"
   ]
  },
  {
   "cell_type": "markdown",
   "metadata": {},
   "source": [
    "## 6. Testing"
   ]
  },
  {
   "cell_type": "markdown",
   "metadata": {},
   "source": [
    "Creamos unas querys propias para testear el correcto funcionamiento de la bbdd teniendo en cuenta las relaciones entre PKs , Fks etc.\n"
   ]
  },
  {
   "cell_type": "markdown",
   "metadata": {},
   "source": [
    "[imagen/captura_testing]"
   ]
  },
  {
   "cell_type": "markdown",
   "metadata": {},
   "source": [
    "[imagen/captura_testing2]"
   ]
  },
  {
   "cell_type": "markdown",
   "metadata": {},
   "source": [
    "## 7. Next Steps"
   ]
  },
  {
   "cell_type": "markdown",
   "metadata": {},
   "source": [
    "Automatización del incremento en los id_vertical e id_promoción para una total escalabilidad"
   ]
  }
 ],
 "metadata": {
  "kernelspec": {
   "display_name": "Python 3",
   "language": "python",
   "name": "python3"
  },
  "language_info": {
   "codemirror_mode": {
    "name": "ipython",
    "version": 3
   },
   "file_extension": ".py",
   "mimetype": "text/x-python",
   "name": "python",
   "nbconvert_exporter": "python",
   "pygments_lexer": "ipython3",
   "version": "3.11.4"
  }
 },
 "nbformat": 4,
 "nbformat_minor": 2
}
