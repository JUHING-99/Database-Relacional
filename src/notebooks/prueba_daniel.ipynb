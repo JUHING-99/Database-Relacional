{
 "cells": [
  {
   "cell_type": "code",
   "execution_count": null,
   "metadata": {},
   "outputs": [],
   "source": [
    "import pandas as pd"
   ]
  },
  {
   "cell_type": "code",
   "execution_count": null,
   "metadata": {},
   "outputs": [],
   "source": [
    "claustro = pd.read_csv('./data/claustro.csv', sep=';')\n",
    "claustro"
   ]
  },
  {
   "cell_type": "code",
   "execution_count": null,
   "metadata": {},
   "outputs": [],
   "source": [
    "claustro.info()"
   ]
  },
  {
   "cell_type": "code",
   "execution_count": null,
   "metadata": {},
   "outputs": [],
   "source": [
    "ds_clase1 = pd.read_csv('./data/listado_DS_clase_1.csv', sep=';')\n",
    "ds_clase1"
   ]
  },
  {
   "cell_type": "code",
   "execution_count": null,
   "metadata": {},
   "outputs": [],
   "source": [
    "ds_clase1.info()"
   ]
  },
  {
   "cell_type": "code",
   "execution_count": null,
   "metadata": {},
   "outputs": [],
   "source": [
    "ds_clase2 = pd.read_csv('./data/listado_DS_clase_2.csv', sep=';')\n",
    "ds_clase2"
   ]
  },
  {
   "cell_type": "code",
   "execution_count": null,
   "metadata": {},
   "outputs": [],
   "source": [
    "ds_clase2.info()"
   ]
  },
  {
   "cell_type": "code",
   "execution_count": null,
   "metadata": {},
   "outputs": [],
   "source": [
    "fs_clase1 = pd.read_csv('./data/listado_FS_clase_1.csv', sep=';')\n",
    "fs_clase1"
   ]
  },
  {
   "cell_type": "code",
   "execution_count": null,
   "metadata": {},
   "outputs": [],
   "source": [
    "fs_clase1.info()"
   ]
  },
  {
   "cell_type": "code",
   "execution_count": null,
   "metadata": {},
   "outputs": [],
   "source": [
    "fs_clase2 = pd.read_csv('./data/listado_FS_clase_2.csv', sep=';')\n",
    "fs_clase2"
   ]
  },
  {
   "cell_type": "code",
   "execution_count": null,
   "metadata": {},
   "outputs": [],
   "source": [
    "fs_clase2.info()"
   ]
  },
  {
   "cell_type": "code",
   "execution_count": null,
   "metadata": {},
   "outputs": [],
   "source": [
    "prueba = pd.DataFrame({\n",
    "    \"ID_estudiante\": [\"E1\"] * 5,  # Repito el valor 5 veces\n",
    "    \"id_proyecto\": [\"1ds\", \"2ds\", \"3ds\", \"4ds\", \"5ds\"],  # ID de cada proyecto\n",
    "    \"Nombre_proyecto\": [\"HLF\", \"MLF\", \"DLF\", \"ALF\", \"QLF\"],  # Nombre de cada proyecto\n",
    "    \"Notas\": [\"apto\", \"no apto\", \"apto\", \"apto\", \"no apto\"], #Nota de cada uno de los proyectos\n",
    "    \"Vertical_ID\": 2 \n",
    "})\n",
    "\n",
    "\n",
    "\n",
    "prueba"
   ]
  },
  {
   "cell_type": "code",
   "execution_count": null,
   "metadata": {},
   "outputs": [],
   "source": [
    "# Importo la libreria de postgrest, en mi caso la binaria\n",
    "import psycopg2\n",
    "# creo el objeto de conección a través de los argumentos que defino a continuación para poder acceder a la basse de datos dónde haré querys\n",
    "conn = psycopg2.connect(database=\"zhhgtxxv\",\n",
    "                        host=\"trumpet.db.elephantsql.com\",\n",
    "                        user=\"zhhgtxxv\",\n",
    "                        password=\"vn_eSZu3vBr5hQpHzpFtr4hc4v9H_Lkl\",\n",
    "                        port=\"5432\")"
   ]
  },
  {
   "cell_type": "code",
   "execution_count": null,
   "metadata": {},
   "outputs": [],
   "source": [
    "cursor = conn.cursor()"
   ]
  },
  {
   "cell_type": "code",
   "execution_count": null,
   "metadata": {},
   "outputs": [],
   "source": [
    "# Con esta función leemos los datos y lo pasamos a un DataFrame de Pandas\n",
    "def sql_query(query):\n",
    "\n",
    "    # Ejecuta la query\n",
    "    cursor.execute(query)\n",
    "\n",
    "    # Almacena los datos de la query \n",
    "    ans = cursor.fetchall()\n",
    "\n",
    "    # Obtenemos los nombres de las columnas de la tabla\n",
    "    names = [description[0] for description in cursor.description]\n",
    "\n",
    "    return pd.DataFrame(ans,columns=names)"
   ]
  },
  {
   "cell_type": "code",
   "execution_count": null,
   "metadata": {},
   "outputs": [],
   "source": [
    "\"\"\"Intente crear distintos roles para que trabajaramos en simultaneo en pgadmin pero \n",
    "    Elephant solo permite crear varios usuarios a través de \n",
    "    un plan más avanzado que el básico\"\"\"\n",
    "\n",
    "# query = '''\n",
    "# CREATE USER usuario1 WITH PASSWORD 'tu_contraseña';\n",
    "# ;\n",
    "# '''\n",
    "\n",
    "# df = sql_query(query)\n",
    "# df"
   ]
  },
  {
   "cell_type": "code",
   "execution_count": null,
   "metadata": {},
   "outputs": [],
   "source": [
    "claustro = pd.read_csv('./data/claustro.csv', sep=';')\n",
    "claustro"
   ]
  },
  {
   "cell_type": "code",
   "execution_count": null,
   "metadata": {},
   "outputs": [],
   "source": [
    "ds_df =pd.concat([ds_clase1, ds_clase2])"
   ]
  },
  {
   "cell_type": "code",
   "execution_count": null,
   "metadata": {},
   "outputs": [],
   "source": [
    "ds_df.reset_index(inplace=True)"
   ]
  },
  {
   "cell_type": "code",
   "execution_count": null,
   "metadata": {},
   "outputs": [],
   "source": [
    "ds_df"
   ]
  },
  {
   "cell_type": "code",
   "execution_count": null,
   "metadata": {},
   "outputs": [],
   "source": [
    "ds_df.drop(columns='index', axis=1, inplace=True)"
   ]
  },
  {
   "cell_type": "code",
   "execution_count": null,
   "metadata": {},
   "outputs": [],
   "source": [
    "ds_df"
   ]
  },
  {
   "cell_type": "code",
   "execution_count": null,
   "metadata": {},
   "outputs": [],
   "source": [
    "dic_ds = ds_df.to_dict(orient='list')"
   ]
  },
  {
   "cell_type": "code",
   "execution_count": null,
   "metadata": {},
   "outputs": [],
   "source": [
    "print (dic_ds)"
   ]
  },
  {
   "cell_type": "code",
   "execution_count": null,
   "metadata": {},
   "outputs": [],
   "source": [
    "for index, row in ds_df.iterrows():\n",
    "    print(f'Datos de {row[\"Nombre\"]}:')\n",
    "    print(f'Nombre: {row[\"Nombre\"]}')\n",
    "    print(f'Email: {row[\"Email\"]}')\n",
    "    print(f'Promoción: {row[\"Promoción\"]}')\n",
    "    print(f'Fecha de Comienzo: {row[\"Fecha_comienzo\"]}')\n",
    "    print(f'Campus: {row[\"Campus\"]}')\n",
    "    print('---')\n"
   ]
  },
  {
   "cell_type": "code",
   "execution_count": null,
   "metadata": {},
   "outputs": [],
   "source": [
    "# Suponiendo que tienes la siguiente lista de IDs de alumnos\n",
    "ids_alumnos = [1, 2, 3, 4, 5]\n",
    "\n",
    "# Y la siguiente lista de listas con las calificaciones para cada proyecto\n",
    "calificaciones = [\n",
    "    ['Apto', 'No Apto', 'Apto', 'Apto', 'No Apto'],\n",
    "    ['No Apto', 'Apto', 'Apto', 'No Apto', 'Apto'],\n",
    "    ['Apto', 'Apto', 'No Apto', 'Apto', 'No Apto'],\n",
    "    ['No Apto', 'No Apto', 'Apto', 'Apto', 'Apto'],\n",
    "    ['Apto', 'Apto', 'Apto', 'No Apto', 'No Apto']\n",
    "]\n",
    "\n",
    "# Crear el DataFrame\n",
    "df = pd.DataFrame(calificaciones, columns=['Proyecto 1', 'Proyecto 2', 'Proyecto 3', 'Proyecto 4', 'Proyecto 5'])\n",
    "\n",
    "# Agregar la columna de IDs de alumnos\n",
    "df.insert(0, 'ID Alumno', ids_alumnos)\n",
    "\n",
    "# Mostrar el DataFrame\n",
    "df\n"
   ]
  },
  {
   "cell_type": "code",
   "execution_count": null,
   "metadata": {},
   "outputs": [],
   "source": [
    "\n",
    "# Suponiendo que tienes las siguientes listas de datos\n",
    "nombres_proyectos = ['HLF', 'HLF', 'HLF', 'HLF', 'HLF', 'HLF']\n",
    "ids_alumnos = [1, 2, 3, 4, 5, 6]\n",
    "notas = ['Apto', 'No Apto', 'Apto', 'No Apto', 'Apto', 'No Apto']\n",
    "\n",
    "# Crear un diccionario con los datos\n",
    "datos = {\n",
    "    'Nombre Proyecto': nombres_proyectos,\n",
    "    'ID Alumno': ids_alumnos,\n",
    "    'Nota': notas\n",
    "}\n",
    "\n",
    "# Crear el DataFrame a partir del diccionario\n",
    "df = pd.DataFrame(datos)\n",
    "\n",
    "# Mostrar el DataFrame\n",
    "df\n"
   ]
  }
 ],
 "metadata": {
  "kernelspec": {
   "display_name": "Python 3",
   "language": "python",
   "name": "python3"
  },
  "language_info": {
   "codemirror_mode": {
    "name": "ipython",
    "version": 3
   },
   "file_extension": ".py",
   "mimetype": "text/x-python",
   "name": "python",
   "nbconvert_exporter": "python",
   "pygments_lexer": "ipython3",
   "version": "3.11.4"
  }
 },
 "nbformat": 4,
 "nbformat_minor": 2
}
