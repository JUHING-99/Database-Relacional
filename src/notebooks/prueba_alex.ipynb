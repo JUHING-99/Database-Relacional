{
 "cells": [
  {
   "cell_type": "code",
   "execution_count": null,
   "metadata": {},
   "outputs": [],
   "source": [
    "import pandas as pd\n",
    "import numpy as np"
   ]
  },
  {
   "cell_type": "code",
   "execution_count": null,
   "metadata": {},
   "outputs": [],
   "source": [
    "pd.set_option(\"display.max_rows\", None)"
   ]
  },
  {
   "cell_type": "code",
   "execution_count": null,
   "metadata": {},
   "outputs": [],
   "source": [
    "claustro = pd.read_csv('../data/claustro.csv', sep=';')\n",
    "claustro"
   ]
  },
  {
   "cell_type": "code",
   "execution_count": null,
   "metadata": {},
   "outputs": [],
   "source": [
    "claustro.info()"
   ]
  },
  {
   "cell_type": "code",
   "execution_count": null,
   "metadata": {},
   "outputs": [],
   "source": [
    "columnas_seleccionadas = [\"Nombre\",\"Campus\",\"Rol\",\"Promocion\",\"Vertical\"]\n",
    "valores = claustro[columnas_seleccionadas].values\n",
    "valores"
   ]
  },
  {
   "cell_type": "code",
   "execution_count": null,
   "metadata": {},
   "outputs": [],
   "source": [
    "# ('Noa Yáñez', 'Madrid', 'TA', 'Septiembre', 'DS')\n",
    "# ('Saturnina Benitez', 'Madrid', 'TA', 'Septiembre', 'DS')\n",
    "# ('Anna Feliu', 'Madrid', 'TA', 'Septiembre', 'FS')\n",
    "# ('Rosalva Ayuso', 'Valencia', 'TA', 'Septiembre', 'FS')\n",
    "# ('Ana Sofía Ferrer', 'Valencia', 'TA', 'Febrero', 'FS')\n",
    "# ('Angélica Corral', 'Madrid', 'TA', 'Febrero', 'FS')\n",
    "# ('Ariel Lledó', 'Madrid', 'TA', 'Septiembre', 'DS')\n",
    "# ('Mario Prats', 'Valencia', 'LI', 'Febrero', 'FS')\n",
    "# ('Luis Ángel Suárez', 'Madrid', 'LI', 'Septiembre', 'FS')\n",
    "# ('María Dolores Diaz', 'Madrid', 'LI', 'Septiembre', 'DS')\n"
   ]
  },
  {
   "cell_type": "code",
   "execution_count": null,
   "metadata": {},
   "outputs": [],
   "source": [
    "ds_clase1 = pd.read_csv('../data/listado_DS_clase_1.csv', sep=';')\n",
    "ds_clase1"
   ]
  },
  {
   "cell_type": "code",
   "execution_count": null,
   "metadata": {},
   "outputs": [],
   "source": [
    "ds_clase1.iloc[0].values"
   ]
  },
  {
   "cell_type": "code",
   "execution_count": null,
   "metadata": {},
   "outputs": [],
   "source": [
    "columnas_seleccionadas = [\"Proyecto_HLF\",\"Proyecto_EDA\",\"Proyecto_BBDD\",\"Proyecto_ML\",\"Proyecto_Deployment\"]\n",
    "valores = ds_clase1[columnas_seleccionadas].values\n"
   ]
  },
  {
   "cell_type": "code",
   "execution_count": null,
   "metadata": {},
   "outputs": [],
   "source": [
    "ds_clase2 = pd.read_csv('../data/listado_DS_clase_2.csv', sep=';')\n",
    "ds_clase2"
   ]
  },
  {
   "cell_type": "code",
   "execution_count": null,
   "metadata": {},
   "outputs": [],
   "source": [
    "ds_df = pd.concat([ds_clase1,ds_clase2])\n",
    "ds_df.reset_index(drop=True)\n"
   ]
  },
  {
   "cell_type": "code",
   "execution_count": null,
   "metadata": {},
   "outputs": [],
   "source": [
    "# ('Daniela Falcó\t', 'Daniela_Falcó@gmail.com','Madrid','DS2309','DS')\n",
    "# ('Anita Heredia', 'Anita_Heredia@gmail.com','Madrid','DS2309','DS')\n",
    "# ('Haydée Figueroa', 'Haydée_Figueroa@gmail.com','Madrid','DS2402','DS')"
   ]
  },
  {
   "cell_type": "code",
   "execution_count": null,
   "metadata": {},
   "outputs": [],
   "source": [
    "proyectos = [\"proyecto_HLF\",\"Proyecto_EDA\",\"Proyecto_BBDD\",\"Proyecto_ML\",\"Proyecto_Deployment\"]*25\n",
    "# hlf = [\"ProyectO_HLF\"]*25\n",
    "# eda = [\"Proyecto_EDA\"]*25\n",
    "# bbdd = [\"Proyecto_BBDD\"]*25\n",
    "# ml = [\"Proyecto_ML\"]*25\n",
    "# depl = [\"Proyecto_Deployment\"]*25"
   ]
  },
  {
   "cell_type": "code",
   "execution_count": null,
   "metadata": {},
   "outputs": [],
   "source": [
    "len(proyectos)"
   ]
  },
  {
   "cell_type": "code",
   "execution_count": null,
   "metadata": {},
   "outputs": [],
   "source": [
    "# nombre_proyecto = []\n",
    "# for i in hlf:\n",
    "#     nombre_proyecto.append(i)\n",
    "# for i in eda:\n",
    "#     nombre_proyecto.append(i)\n",
    "# for i in bbdd:\n",
    "#     nombre_proyecto.append(i)\n",
    "# for i in ml:\n",
    "#     nombre_proyecto.append(i)\n",
    "# for i in depl:\n",
    "#     nombre_proyecto.append(i)"
   ]
  },
  {
   "cell_type": "code",
   "execution_count": null,
   "metadata": {},
   "outputs": [],
   "source": [
    "rango1 = range(3, 16)\n",
    "rango2 = range(40, 49)\n",
    "rango3 = range(76,79)\n",
    "alumno_id = []\n",
    "\n",
    "for i in rango1:\n",
    "    alumno_id.extend([i] * 5)\n",
    "\n",
    "for i in rango2:\n",
    "    alumno_id.extend([i] * 5)\n",
    "\n",
    "for i in rango3:\n",
    "    alumno_id.extend([i] * 5)"
   ]
  },
  {
   "cell_type": "code",
   "execution_count": null,
   "metadata": {},
   "outputs": [],
   "source": [
    "notas = {}\n",
    "# nota_hlf = []\n",
    "# nota_eda = []\n",
    "# nota_bbdd = []\n",
    "# nota_ml = []\n",
    "# nota_depl = []\n",
    "\n",
    "for i in ds_df[\"Proyecto_HLF\"]:\n",
    "    notas.append(i)\n",
    "for i in ds_df[\"Proyecto_EDA\"]:\n",
    "    notas.append(i)\n",
    "for i in ds_df[\"Proyecto_BBDD\"]:\n",
    "    notas.append(i)\n",
    "for i in ds_df[\"Proyecto_ML\"]:\n",
    "    notas.append(i)\n",
    "for i in ds_df[\"Proyecto_Deployment\"]:\n",
    "    notas.append(i)"
   ]
  },
  {
   "cell_type": "code",
   "execution_count": null,
   "metadata": {},
   "outputs": [],
   "source": [
    "len(proyectos)"
   ]
  },
  {
   "cell_type": "code",
   "execution_count": null,
   "metadata": {},
   "outputs": [],
   "source": [
    "len(notas)"
   ]
  },
  {
   "cell_type": "code",
   "execution_count": null,
   "metadata": {},
   "outputs": [],
   "source": [
    "len(alumno_id)"
   ]
  },
  {
   "cell_type": "code",
   "execution_count": null,
   "metadata": {},
   "outputs": [],
   "source": [
    "notas_dicc = {\"Nombre Proyecto\" : proyectos,\n",
    "               \"Alumno ID\" : alumno_id,\n",
    "               \"Nota\": notas}"
   ]
  },
  {
   "cell_type": "code",
   "execution_count": null,
   "metadata": {},
   "outputs": [],
   "source": [
    "data_notas = pd.DataFrame(notas_dicc)\n",
    "data_notas.to_csv('data_notas.csv', index=False)"
   ]
  },
  {
   "cell_type": "code",
   "execution_count": null,
   "metadata": {},
   "outputs": [],
   "source": [
    "data_notas"
   ]
  },
  {
   "cell_type": "code",
   "execution_count": null,
   "metadata": {},
   "outputs": [],
   "source": [
    "ds_clase2.info()"
   ]
  },
  {
   "cell_type": "code",
   "execution_count": null,
   "metadata": {},
   "outputs": [],
   "source": [
    "fs_clase1 = pd.read_csv('./data/listado_FS_clase_1.csv', sep=';')\n",
    "fs_clase1"
   ]
  },
  {
   "cell_type": "code",
   "execution_count": null,
   "metadata": {},
   "outputs": [],
   "source": [
    "columnas_seleccionadas = [\"Proyecto_WebDev\",\"Proyecto_FrontEnd\",\"Proyecto_Backend\",\"Proyecto_React\",\"Proyecto_FullSatck\"]\n",
    "valores = fs_clase1[columnas_seleccionadas].values\n",
    "valores"
   ]
  },
  {
   "cell_type": "code",
   "execution_count": null,
   "metadata": {},
   "outputs": [],
   "source": [
    "fs_clase1.info()"
   ]
  },
  {
   "cell_type": "code",
   "execution_count": null,
   "metadata": {},
   "outputs": [],
   "source": [
    "fs_clase2 = pd.read_csv('./data/listado_FS_clase_2.csv', sep=';')\n",
    "fs_clase2"
   ]
  },
  {
   "cell_type": "code",
   "execution_count": null,
   "metadata": {},
   "outputs": [],
   "source": [
    "columnas_seleccionadas = [\"Proyecto_WebDev\",\"Proyecto_FrontEnd\",\"Proyecto_Backend\",\"Proyecto_React\",\"Proyecto_FullSatck\"]\n",
    "valores = fs_clase2[columnas_seleccionadas].values\n"
   ]
  },
  {
   "cell_type": "code",
   "execution_count": null,
   "metadata": {},
   "outputs": [],
   "source": [
    "fs_clase2.info()"
   ]
  },
  {
   "cell_type": "code",
   "execution_count": null,
   "metadata": {},
   "outputs": [],
   "source": [
    "prueba = pd.DataFrame({\n",
    "    \"ID_estudiante\": [\"E1\"] * 5,  # Repito el valor 5 veces\n",
    "    \"id_proyecto\": [\"1ds\", \"2ds\", \"3ds\", \"4ds\", \"5ds\"],  # ID de cada proyecto\n",
    "    \"Nombre_proyecto\": [\"HLF\", \"MLF\", \"DLF\", \"ALF\", \"QLF\"],  # Nombre de cada proyecto\n",
    "    \"Notas\": [\"apto\", \"no apto\", \"apto\", \"apto\", \"no apto\"], #Nota de cada uno de los proyectos\n",
    "    \"Vertical_ID\": 2 \n",
    "})\n",
    "\n",
    "\n",
    "\n",
    "prueba"
   ]
  }
 ],
 "metadata": {
  "kernelspec": {
   "display_name": "Python 3",
   "language": "python",
   "name": "python3"
  },
  "language_info": {
   "codemirror_mode": {
    "name": "ipython",
    "version": 3
   },
   "file_extension": ".py",
   "mimetype": "text/x-python",
   "name": "python",
   "nbconvert_exporter": "python",
   "pygments_lexer": "ipython3",
   "version": "3.11.4"
  }
 },
 "nbformat": 4,
 "nbformat_minor": 2
}
